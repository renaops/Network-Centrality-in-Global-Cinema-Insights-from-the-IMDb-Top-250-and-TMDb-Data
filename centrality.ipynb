{
 "cells": [
  {
   "cell_type": "code",
   "execution_count": 23,
   "id": "82368e4e",
   "metadata": {},
   "outputs": [],
   "source": [
    "import json\n",
    "import networkx as nx\n",
    "from collections import Counter"
   ]
  },
  {
   "cell_type": "code",
   "execution_count": 14,
   "id": "5688ea7c",
   "metadata": {},
   "outputs": [],
   "source": [
    "# Load data\n",
    "with open(\"data/tmdb_movies.json\", \"r\", encoding=\"utf-8\") as f:\n",
    "    movies = json.load(f)\n",
    "\n",
    "with open(\"data/recommended_movie_data.json\", \"r\", encoding=\"utf-8\") as f:\n",
    "    recommended_data = json.load(f)\n",
    "\n",
    "# Build lookups\n",
    "recommended_lookup = {movie[\"id\"]: movie for movie in recommended_data}\n",
    "movie_dict = {movie[\"id\"]: movie for movie in movies}\n",
    "\n",
    "# Merge recommended movies into a unified list (if not already present)\n",
    "all_movies = {**movie_dict, **recommended_lookup}"
   ]
  },
  {
   "cell_type": "code",
   "execution_count": 15,
   "id": "d154cbb5",
   "metadata": {},
   "outputs": [],
   "source": [
    "G = nx.read_gexf(\"networks/movies.gexf\")\n",
    "\n",
    "centralities = {\n",
    "    \"degree\": nx.degree_centrality(G),\n",
    "    \"betweenness\": nx.betweenness_centrality(G),\n",
    "    \"closeness\": nx.closeness_centrality(G),\n",
    "    \"eigenvector\": nx.eigenvector_centrality(G),\n",
    "    \"pagerank\": nx.pagerank(G),\n",
    "}"
   ]
  },
  {
   "cell_type": "code",
   "execution_count": 19,
   "id": "dcd61ee6",
   "metadata": {},
   "outputs": [
    {
     "name": "stdout",
     "output_type": "stream",
     "text": [
      "Degree Centrality Top 3:\n",
      "  1. The Shawshank Redemption: 0.045489891135303266  Drama,Crime\n",
      "  2. Joker: 0.04354587869362364  Drama,Crime,Thriller\n",
      "  3. Interstellar: 0.04315707620528771  Science Fiction,Drama,Adventure\n",
      "  4. Parasite: 0.03926905132192846  Drama,Comedy,Thriller\n",
      "  5. The Godfather: 0.03693623639191291  Drama,Crime\n",
      "Betweenness Centrality Top 3:\n",
      "  1. 12 Angry Men: 0.02490521848287073  Drama\n",
      "  2. Parasite: 0.022140816252467554  Drama,Comedy,Thriller\n",
      "  3. Back to the Future: 0.019329033734161234  Science Fiction,Adventure,Comedy\n",
      "  4. The Lives of Others: 0.017377478858977058  Drama,Thriller\n",
      "  5. The Shawshank Redemption: 0.015954640118550616  Drama,Crime\n",
      "Closeness Centrality Top 3:\n",
      "  1. Fight Club: 0.24879556900546104  Drama\n",
      "  2. Inception: 0.24460350673016173  Science Fiction,Adventure,Action\n",
      "  3. Back to the Future: 0.24207848376497476  Science Fiction,Adventure,Comedy\n",
      "  4. Pulp Fiction: 0.24131200835463712  Crime,Thriller\n",
      "  5. The Dark Knight: 0.24061365737018542  Drama,Action,Crime,Thriller\n",
      "Eigenvector Centrality Top 3:\n",
      "  1. Inception: 0.16410885225030886  Science Fiction,Adventure,Action\n",
      "  2. Fight Club: 0.15049766084988647  Drama\n",
      "  3. The Dark Knight: 0.14613829436207754  Drama,Action,Crime,Thriller\n",
      "  4. The Dark Knight Rises: 0.1335145520733733  Drama,Action,Crime,Thriller\n",
      "  5. Django Unchained: 0.13281309793536963  Drama,Western\n",
      "Pagerank Centrality Top 3:\n",
      "  1. The Avengers: 0.002743005038160554  Science Fiction,Adventure,Action\n",
      "  2. Avengers: Infinity War: 0.002694865317375272  Science Fiction,Adventure,Action\n",
      "  3. Two Mules for Sister Sara: 0.0025594869551975414  Western,Adventure,Romance\n",
      "  4. Inception: 0.0025338970148718488  Science Fiction,Adventure,Action\n",
      "  5. Hang 'em High: 0.002475441761171939  Drama,Western\n"
     ]
    }
   ],
   "source": [
    "for name, scores in centralities.items():\n",
    "    top = sorted(scores.items(), key=lambda x: x[1], reverse=True)[:5]\n",
    "    print(f\"{name.title()} Centrality Top 3:\")\n",
    "\n",
    "    for idx, (node_id, value) in enumerate(top, start=1):\n",
    "        label = G.nodes[node_id].get('label', node_id)\n",
    "        genres = G.nodes[node_id].get('genres', node_id)\n",
    "        print(f\"  {idx}. {label}: {value}  {genres}\")"
   ]
  },
  {
   "cell_type": "code",
   "execution_count": 30,
   "id": "d3b2341d",
   "metadata": {},
   "outputs": [
    {
     "name": "stdout",
     "output_type": "stream",
     "text": [
      "Degree Centrality Top Genres (Normalized):\n",
      "  Drama: 0.22\n",
      "  Comedy: 0.11\n",
      "  Thriller: 0.09\n",
      "  Action: 0.08\n",
      "  Romance: 0.07\n",
      "\n",
      "Betweenness Centrality Top Genres (Normalized):\n",
      "  Drama: 0.22\n",
      "  Comedy: 0.11\n",
      "  Thriller: 0.09\n",
      "  Action: 0.08\n",
      "  Romance: 0.07\n",
      "\n",
      "Closeness Centrality Top Genres (Normalized):\n",
      "  Drama: 0.22\n",
      "  Comedy: 0.11\n",
      "  Thriller: 0.09\n",
      "  Action: 0.08\n",
      "  Romance: 0.07\n",
      "\n",
      "Eigenvector Centrality Top Genres (Normalized):\n",
      "  Drama: 0.22\n",
      "  Comedy: 0.11\n",
      "  Thriller: 0.09\n",
      "  Action: 0.08\n",
      "  Romance: 0.07\n",
      "\n",
      "Pagerank Centrality Top Genres (Normalized):\n",
      "  Drama: 0.22\n",
      "  Comedy: 0.11\n",
      "  Thriller: 0.09\n",
      "  Action: 0.08\n",
      "  Romance: 0.07\n",
      "\n"
     ]
    }
   ],
   "source": [
    "for name, scores in centralities.items():\n",
    "    top = sorted(scores.items(), key=lambda x: x[1], reverse=True)\n",
    "    genre_counter = Counter()\n",
    "    for node_id, value in top:\n",
    "        genres = G.nodes[node_id].get('genres', [])\n",
    "        genre_counter.update(genres.split(\",\"))\n",
    "    total = sum(genre_counter.values())\n",
    "    print(f\"{name.title()} Centrality Top Genres (Normalized):\")\n",
    "    for genre, count in genre_counter.most_common(5):\n",
    "        print(f\"  {genre}: {count / total:.2f}\")\n",
    "    print()"
   ]
  },
  {
   "cell_type": "code",
   "execution_count": 4,
   "id": "ecb8ef2c",
   "metadata": {},
   "outputs": [],
   "source": [
    "C = nx.read_gexf(\"networks/countries.gexf\")\n",
    "\n",
    "centralities_c = {\n",
    "    \"degree\": nx.degree_centrality(C),\n",
    "    \"betweenness\": nx.betweenness_centrality(C),\n",
    "    \"closeness\": nx.closeness_centrality(C),\n",
    "    \"eigenvector\": nx.eigenvector_centrality(C),\n",
    "    \"pagerank\": nx.pagerank(C),\n",
    "}"
   ]
  },
  {
   "cell_type": "code",
   "execution_count": 12,
   "id": "d2eea69a",
   "metadata": {},
   "outputs": [
    {
     "name": "stdout",
     "output_type": "stream",
     "text": [
      "Degree Centrality Top 3:\n",
      "  1. us: 0.9875\n",
      "  2. gb: 0.8625\n",
      "  3. fr: 0.8250000000000001\n",
      "  4. it: 0.7250000000000001\n",
      "  5. ca: 0.7125\n",
      "Betweenness Centrality Top 3:\n",
      "  1. us: 0.23472577654238622\n",
      "  2. gb: 0.09221497686386498\n",
      "  3. fr: 0.08681991745772966\n",
      "  4. it: 0.05998860316620501\n",
      "  5. ca: 0.03887878009812863\n",
      "Closeness Centrality Top 3:\n",
      "  1. us: 0.9876543209876543\n",
      "  2. gb: 0.8791208791208791\n",
      "  3. fr: 0.851063829787234\n",
      "  4. it: 0.7843137254901961\n",
      "  5. ca: 0.7766990291262136\n",
      "Eigenvector Centrality Top 3:\n",
      "  1. us: 0.2289208071610199\n",
      "  2. gb: 0.22264957373801847\n",
      "  3. fr: 0.2174890384457987\n",
      "  4. ca: 0.20659111353922135\n",
      "  5. it: 0.20277710679002164\n",
      "Pagerank Centrality Top 3:\n",
      "  1. us: 0.30481265181651634\n",
      "  2. gb: 0.13518687245120523\n",
      "  3. fr: 0.0674944344465196\n",
      "  4. de: 0.04900907871525968\n",
      "  5. ca: 0.033889300526641866\n"
     ]
    }
   ],
   "source": [
    "for name, scores in centralities_c.items():\n",
    "    top = sorted(scores.items(), key=lambda x: x[1], reverse=True)[:5]\n",
    "    print(f\"{name.title()} Centrality Top 3:\")\n",
    "    for idx, (node_id, value) in enumerate(top, start=1):\n",
    "        label = C.nodes[node_id].get('label', node_id)\n",
    "        print(f\"  {idx}. {label}: {value}\")"
   ]
  }
 ],
 "metadata": {
  "kernelspec": {
   "display_name": ".venv",
   "language": "python",
   "name": "python3"
  },
  "language_info": {
   "codemirror_mode": {
    "name": "ipython",
    "version": 3
   },
   "file_extension": ".py",
   "mimetype": "text/x-python",
   "name": "python",
   "nbconvert_exporter": "python",
   "pygments_lexer": "ipython3",
   "version": "3.12.10"
  }
 },
 "nbformat": 4,
 "nbformat_minor": 5
}
