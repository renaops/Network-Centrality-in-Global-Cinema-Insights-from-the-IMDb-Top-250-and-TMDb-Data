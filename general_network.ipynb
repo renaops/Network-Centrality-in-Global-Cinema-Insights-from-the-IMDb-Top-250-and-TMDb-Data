{
 "cells": [
  {
   "cell_type": "code",
   "execution_count": 32,
   "id": "cb0a8a78",
   "metadata": {},
   "outputs": [],
   "source": [
    "import json\n",
    "import networkx as nx"
   ]
  },
  {
   "cell_type": "code",
   "execution_count": 33,
   "id": "cd3eecf3",
   "metadata": {},
   "outputs": [],
   "source": [
    "# Load data\n",
    "with open(\"data/tmdb_movies.json\", \"r\", encoding=\"utf-8\") as f:\n",
    "    movies = json.load(f)\n",
    "\n",
    "with open(\"data/recommended_movie_data.json\", \"r\", encoding=\"utf-8\") as f:\n",
    "    recommended_data = json.load(f)\n",
    "\n",
    "# Build lookups\n",
    "recommended_lookup = {movie[\"id\"]: movie for movie in recommended_data}\n",
    "movie_dict = {movie[\"id\"]: movie for movie in movies}\n",
    "\n",
    "# Merge recommended movies into a unified list (if not already present)\n",
    "all_movies = {**movie_dict, **recommended_lookup}"
   ]
  },
  {
   "cell_type": "code",
   "execution_count": 34,
   "id": "4b1abcc1",
   "metadata": {},
   "outputs": [],
   "source": [
    "def countries_parser(movie):\n",
    "    origin_country = movie.get(\"origin_country\", [])\n",
    "\n",
    "    production_countries = movie.get(\"production_countries\", [])\n",
    "    production_countries = [country.get(\"iso_3166_1\") for country in production_countries if isinstance(country, dict) and \"iso_3166_1\" in country]\n",
    "    \n",
    "    production_companies = movie.get(\"production_companies\", [])\n",
    "    production_companies = [company.get(\"origin_country\") for company in production_companies if isinstance(company, dict) and \"origin_country\" in company]\n",
    "\n",
    "    all_movie_countries = set()\n",
    "    all_movie_countries.update([c.lower() for c in origin_country if isinstance(c, str)])\n",
    "    all_movie_countries.update([c.lower() for c in production_countries if isinstance(c, str)])\n",
    "    all_movie_countries.update([c.lower() for c in production_companies if isinstance(c, str)])\n",
    "\n",
    "    return all_movie_countries\n",
    "\n",
    "\n",
    "def get_all_countries(all_movies):\n",
    "    all_countries = dict()\n",
    "    for _, movie in all_movies.items():\n",
    "        all_movie_countries = countries_parser(movie)\n",
    "\n",
    "        for c in all_movie_countries:\n",
    "            country_name = c.lower() if isinstance(c, str) else \"\"\n",
    "            if country_name:\n",
    "                all_countries[country_name] = all_countries.get(country_name, 0) + 1\n",
    "    return all_countries\n",
    "\n",
    "def isBrazilianRelated(movie):\n",
    "    all_countries = countries_parser(movie)\n",
    "    return True if \"br\" in all_countries else False\n"
   ]
  },
  {
   "cell_type": "code",
   "execution_count": 35,
   "id": "33b87559",
   "metadata": {},
   "outputs": [],
   "source": [
    "def get_features(movie):\n",
    "    genres = {g[\"name\"] for g in movie.get(\"genres\", [])}\n",
    "    cast = {c[\"id\"] for c in movie.get(\"credits\", {}).get(\"cast\", [])}\n",
    "    crew = {c[\"id\"] for c in movie.get(\"credits\", {}).get(\"crew\", [])}\n",
    "    keywords = {k[\"id\"] for k in movie.get(\"keywords\", {}).get(\"keywords\", [])}\n",
    "    companies = {p[\"id\"] for p in movie.get(\"production_companies\", [])}\n",
    "    countries = {p[\"iso_3166_1\"] for p in movie.get(\"production_countries\", [])}\n",
    "    return genres, cast, crew, keywords, companies, countries"
   ]
  },
  {
   "cell_type": "code",
   "execution_count": null,
   "id": "10231862",
   "metadata": {},
   "outputs": [],
   "source": [
    "G = nx.DiGraph()\n",
    "\n",
    "for movie_id, movie in all_movies.items():\n",
    "    title = movie.get(\"title\", \"\").strip()\n",
    "    release_date = movie.get(\"release_date\", \"\")\n",
    "    genres, _, _, keywords, _, countries = get_features(movie)\n",
    "    \n",
    "    G.add_node(\n",
    "        movie_id,\n",
    "        title=title,\n",
    "        label=title,\n",
    "        brazilian=isBrazilianRelated(movie),\n",
    "        release_date=release_date,\n",
    "        genres=\",\".join(genres),\n",
    "        is_top=(movie_id in movie_dict),\n",
    "        keywords=\",\".join(keywords)\n",
    "    )"
   ]
  },
  {
   "cell_type": "code",
   "execution_count": 40,
   "id": "5dd3c17d",
   "metadata": {},
   "outputs": [],
   "source": [
    "for id1, movie1 in all_movies.items():\n",
    "    features1 = get_features(movie1)\n",
    "    \n",
    "    recs = movie1.get(\"recommendations\", {}).get(\"results\", [])\n",
    "    for rec in recs:\n",
    "        id2 = rec.get(\"id\")\n",
    "        if id2 not in all_movies:\n",
    "            continue\n",
    "\n",
    "        features2 = get_features(all_movies[id2])\n",
    "\n",
    "        # Compute shared feature counts\n",
    "        shared_counts = [\n",
    "            len(f1 & f2) for f1, f2 in zip(features1, features2)\n",
    "        ]\n",
    "        weight = sum(shared_counts)\n",
    "\n",
    "        if weight > 0:\n",
    "            G.add_edge(id1, id2, weight=weight, label=str(weight))"
   ]
  },
  {
   "cell_type": "code",
   "execution_count": 41,
   "id": "f12f3c55",
   "metadata": {},
   "outputs": [],
   "source": [
    "nx.write_gexf(G, \"networks/movies.gexf\")"
   ]
  }
 ],
 "metadata": {
  "kernelspec": {
   "display_name": ".venv",
   "language": "python",
   "name": "python3"
  },
  "language_info": {
   "codemirror_mode": {
    "name": "ipython",
    "version": 3
   },
   "file_extension": ".py",
   "mimetype": "text/x-python",
   "name": "python",
   "nbconvert_exporter": "python",
   "pygments_lexer": "ipython3",
   "version": "3.12.10"
  }
 },
 "nbformat": 4,
 "nbformat_minor": 5
}
